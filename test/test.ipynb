{
 "cells": [
  {
   "cell_type": "code",
   "execution_count": 1,
   "metadata": {},
   "outputs": [],
   "source": [
    "import sqlite3\n",
    "from datetime import datetime"
   ]
  },
  {
   "cell_type": "code",
   "execution_count": 2,
   "metadata": {},
   "outputs": [
    {
     "name": "stdout",
     "output_type": "stream",
     "text": [
      "['彈唱譜', '總譜', '獨奏譜', '四手聯彈']\n"
     ]
    }
   ],
   "source": [
    "\n",
    "types = ['彈唱譜','總譜','獨奏譜','四手聯彈']\n",
    "print(types)\n",
    "\n",
    "styles = ['ACG','流行','影視','中國風','純音樂','童歌','原創','古典']\n",
    "\n",
    "tonalitys = ['C-Major','(C#/Db)-Major','D-Major','Eb-Major',\n",
    "'E-Major','F-Major','(F#/Gb)-Major','G-Major',\n",
    "'Ab-Major','A-Major','Bb-Major','(B/Cb)-Major',\n",
    "'c-minor','c#-minor','d-minor','(eb/d#)-minor',\n",
    "'e-minor','f-minor','f#-minor','g-minor',\n",
    "'(ab/g#)-minor','a-minor','(bb/a#)-minor','b-minor']"
   ]
  },
  {
   "cell_type": "code",
   "execution_count": 3,
   "metadata": {},
   "outputs": [
    {
     "data": {
      "text/plain": [
       "<sqlite3.Cursor at 0x20af58056c0>"
      ]
     },
     "execution_count": 3,
     "metadata": {},
     "output_type": "execute_result"
    }
   ],
   "source": [
    "conn = sqlite3.connect('../db.sqlite3')\n",
    "cursor = conn.cursor()\n",
    "cursor"
   ]
  },
  {
   "cell_type": "code",
   "execution_count": 4,
   "metadata": {},
   "outputs": [
    {
     "data": {
      "text/plain": [
       "'2022-02-16'"
      ]
     },
     "execution_count": 4,
     "metadata": {},
     "output_type": "execute_result"
    }
   ],
   "source": [
    "today = datetime.today().strftime('%Y-%m-%d')\n",
    "today\n"
   ]
  },
  {
   "cell_type": "code",
   "execution_count": 5,
   "metadata": {},
   "outputs": [
    {
     "name": "stdout",
     "output_type": "stream",
     "text": [
      "done!\n"
     ]
    }
   ],
   "source": [
    "try:    \n",
    "    for type in types :\n",
    "        sqlstr = f'insert into sheet_type (name,createdon) values (\"{type}\",\"{today}\")'        \n",
    "        cursor.execute(sqlstr)      \n",
    "    conn.commit()\n",
    "    print(\"done!\")\n",
    "except Exception as e:\n",
    "    print(e)"
   ]
  },
  {
   "cell_type": "code",
   "execution_count": 6,
   "metadata": {},
   "outputs": [
    {
     "name": "stdout",
     "output_type": "stream",
     "text": [
      "done!\n"
     ]
    }
   ],
   "source": [
    "try:    \n",
    "    for style in styles :\n",
    "        sqlstr = f'insert into sheet_style (name,createdon) values (\"{style}\",\"{today}\")'        \n",
    "        cursor.execute(sqlstr)      \n",
    "    conn.commit()\n",
    "    print(\"done!\")\n",
    "except Exception as e:\n",
    "    print(e)\n"
   ]
  },
  {
   "cell_type": "code",
   "execution_count": 7,
   "metadata": {},
   "outputs": [
    {
     "name": "stdout",
     "output_type": "stream",
     "text": [
      "done!\n"
     ]
    }
   ],
   "source": [
    "try:    \n",
    "    for tonality in tonalitys :\n",
    "        sqlstr = f'insert into sheet_tonality (name,createdon) values (\"{tonality}\",\"{today}\")'        \n",
    "        cursor.execute(sqlstr)      \n",
    "    conn.commit()\n",
    "    print(\"done!\")\n",
    "except Exception as e:\n",
    "    print(e)"
   ]
  },
  {
   "cell_type": "code",
   "execution_count": 8,
   "metadata": {},
   "outputs": [],
   "source": [
    "\n",
    "conn.close()"
   ]
  }
 ],
 "metadata": {
  "interpreter": {
   "hash": "d3031bf5902bcbdc1aa12c0b4e68ca0780b5916da5fda9fce4ecf89d9a40e224"
  },
  "kernelspec": {
   "display_name": "Python 3.9.7 ('base')",
   "language": "python",
   "name": "python3"
  },
  "language_info": {
   "codemirror_mode": {
    "name": "ipython",
    "version": 3
   },
   "file_extension": ".py",
   "mimetype": "text/x-python",
   "name": "python",
   "nbconvert_exporter": "python",
   "pygments_lexer": "ipython3",
   "version": "3.9.7"
  },
  "orig_nbformat": 4
 },
 "nbformat": 4,
 "nbformat_minor": 2
}
